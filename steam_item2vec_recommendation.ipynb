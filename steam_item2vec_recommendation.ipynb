{
 "cells": [
  {
   "cell_type": "code",
   "execution_count": 2,
   "metadata": {
    "collapsed": false
   },
   "outputs": [],
   "source": [
    "import requests \n",
    "import json\n",
    "import pandas as pd\n",
    "import numpy as np\n",
    "from bs4 import BeautifulSoup\n",
    "import pickle\n",
    "from selenium import webdriver\n",
    "from selenium.webdriver.support.ui import Select\n",
    "from selenium.common.exceptions import NoSuchElementException, UnexpectedAlertPresentException\n",
    "from gensim.models import Word2Vec\n",
    "import statsmodels.api as sm\n",
    "from statsmodels.graphics import utils\n",
    "from sklearn.cross_validation import cross_val_score, cross_val_predict, ShuffleSplit, StratifiedKFold, train_test_split\n",
    "from sklearn.metrics import mean_squared_error, accuracy_score\n",
    "from sklearn.linear_model import LinearRegression, Ridge, Lasso\n",
    "import nltk\n",
    "from nltk.tokenize import sent_tokenize\n",
    "from gensim.summarization import summarize\n",
    "import mykmeans as kmeans\n",
    "from sklearn.manifold import TSNE\n",
    "from mpl_toolkits.mplot3d import Axes3D\n",
    "import matplotlib.cm as cm\n",
    "import copy"
   ]
  },
  {
   "cell_type": "code",
   "execution_count": 77,
   "metadata": {
    "collapsed": false
   },
   "outputs": [],
   "source": [
    "from selenium import webdriver\n",
    "from selenium.webdriver.support.ui import Select\n",
    "from selenium.common.exceptions import NoSuchElementException, UnexpectedAlertPresentException\n",
    "from time import sleep\n",
    "from bs4 import BeautifulSoup\n",
    "import requests \n",
    "import pickle\n",
    "from requests.exceptions import ConnectionError\n",
    "from gensim.models import Word2Vec\n",
    "import mykmeans as kmeans\n",
    "from sklearn.manifold import TSNE\n",
    "from mpl_toolkits.mplot3d import Axes3D\n",
    "import matplotlib.cm as cm\n",
    "import copy"
   ]
  },
  {
   "cell_type": "code",
   "execution_count": null,
   "metadata": {
    "collapsed": true
   },
   "outputs": [],
   "source": [
    "def replacer(s):\n",
    "    s = s.replace('\\n', '').replace('\\r', '').replace('\\t', '')\n",
    "    return s"
   ]
  },
  {
   "cell_type": "code",
   "execution_count": null,
   "metadata": {
    "collapsed": true
   },
   "outputs": [],
   "source": [
    "def save(df, name):\n",
    "    df.to_excel(name + \".xlsx\")\n",
    "    f = open(name + \"_pickle.txt\", 'w')\n",
    "    pickle.dump(df, f)\n",
    "    f.close()"
   ]
  },
  {
   "cell_type": "code",
   "execution_count": null,
   "metadata": {
    "collapsed": true
   },
   "outputs": [],
   "source": [
    "BASE_URL = \"http://store.steampowered.com\"\n",
    "CHART_BASE_URL = \"http://steamcharts.com\""
   ]
  },
  {
   "cell_type": "code",
   "execution_count": null,
   "metadata": {
    "collapsed": false
   },
   "outputs": [],
   "source": [
    "# 스팀차트에서 게임 리스트 크롤링\n",
    "game_df = pd.DataFrame(columns=['name', 'link'])\n",
    "\n",
    "for i in range(1, 10):\n",
    "    steamchart_url = CHART_BASE_URL + \"/top/p.{page_num}\".format(page_num=i)\n",
    "    response = requests.get(steamchart_url)\n",
    "    dom = BeautifulSoup(response.content, 'html.parser')\n",
    "    top_games_table = dom.select(\"table#top-games td.game-name.left\")\n",
    "    for top_game in top_games_table:\n",
    "        name = replacer(top_game.select_one('a').text)\n",
    "        link = top_game.select_one('a').attrs.get('href')\n",
    "        game_df.loc[len(game_df)] = [name, link]"
   ]
  },
  {
   "cell_type": "code",
   "execution_count": null,
   "metadata": {
    "collapsed": false
   },
   "outputs": [],
   "source": [
    "save(game_df, \"game_df_old\")"
   ]
  },
  {
   "cell_type": "code",
   "execution_count": 2,
   "metadata": {
    "collapsed": false
   },
   "outputs": [],
   "source": [
    "f = open(\"game_df_pickle.txt\")\n",
    "game_df = pickle.load(f)\n",
    "f.close()"
   ]
  },
  {
   "cell_type": "code",
   "execution_count": 3,
   "metadata": {
    "collapsed": false
   },
   "outputs": [],
   "source": [
    "#steamchart 평균 플레이어수 기준 상위 200개 게임에서 작성한 리뷰를 최대 100페이지까지 확인,\n",
    "#리뷰를 쓴 유저 중에 겹치지 않고, 보유 게임 리스트를 공개한 유저의 게임 링크 정보 크롤링\n",
    "reviewer_link_list = []\n",
    "\n",
    "for i, row in game_df.iterrows():\n",
    "    for i in range(1, 100):\n",
    "        steam_review_url = (\"http://steamcommunity.com{game_df_link}\"\n",
    "                            \"/homecontent/?userreviewsoffset={offset_num}&p={page_num}\"\n",
    "                            \"&appHubSubSection=10&browsefilter=toprated&filterLanguage=english&searchText=\"\n",
    "                           ).format(game_df_link=row[\"link\"], offset_num=10*(i-1), page_num=i)\n",
    "        try:\n",
    "            response = requests.get(steam_review_url)\n",
    "        except ConnectionError:\n",
    "            sleep(10)\n",
    "            response = requests.get(steam_review_url)\n",
    "        dom = BeautifulSoup(response.content, 'html.parser')\n",
    "        reviewer_link_table = dom.select(\"div.apphub_friend_block_container\")\n",
    "        for reviewer_link in reviewer_link_table:\n",
    "            link = reviewer_link.select_one('a').attrs.get('href')\n",
    "            if(link != u''):\n",
    "                if(link not in reviewer_link):\n",
    "                    reviewer_link_list.append(link)"
   ]
  },
  {
   "cell_type": "code",
   "execution_count": 4,
   "metadata": {
    "collapsed": false
   },
   "outputs": [
    {
     "data": {
      "text/plain": [
       "191096"
      ]
     },
     "execution_count": 4,
     "metadata": {},
     "output_type": "execute_result"
    }
   ],
   "source": [
    "len(reviewer_link_list)"
   ]
  },
  {
   "cell_type": "code",
   "execution_count": 5,
   "metadata": {
    "collapsed": true
   },
   "outputs": [],
   "source": [
    "f = open(\"reviewer_link_list_pickle.txt\", 'w')\n",
    "pickle.dump(reviewer_link_list, f)\n",
    "f.close()"
   ]
  },
  {
   "cell_type": "code",
   "execution_count": 3,
   "metadata": {
    "collapsed": false
   },
   "outputs": [],
   "source": [
    "f = open(\"reviewer_link_list_pickle.txt\")\n",
    "reviewer_link_list = pickle.load(f)\n",
    "f.close()"
   ]
  },
  {
   "cell_type": "code",
   "execution_count": 6,
   "metadata": {
    "collapsed": false
   },
   "outputs": [
    {
     "name": "stdout",
     "output_type": "stream",
     "text": [
      "[u\"Garry's Mod\", u'planetarian ~the reverie of a little planet~', u'Universe Sandbox', u'Grand Theft Auto', u'CameraBag 2', u'Zoom Player Steam Edition', u'Geekbench 3', u'Narcissu 1st & 2nd', u'Quake III Arena', u'Quake II', u'Quake', u'Quake II: The Reckoning', u'Quake III: Team Arena', u'Quake Mission Pack 2: Dissolution of Eternity', u'Quake Mission Pack 1: Scourge of Armagon', u'Quake II: Ground Zero', u\"Five Nights at Freddy's\", u\"Five Nights at Freddy's 2\", u\"Five Nights at Freddy's 3\", u'Quake Live']\n",
      "[u'Team Fortress 2', u'Counter-Strike: Source', u\"Garry's Mod\", u'PAYDAY 2', u'Counter-Strike: Global Offensive', u'Warframe', u'Borderlands 2', u'Evolve', u'Insurgency', u'Borderlands: The Pre-Sequel', u'Left 4 Dead 2', u'Source Filmmaker', u\"Tom Clancy's Rainbow Six Siege\", u'Terraria', u'Rocket League', u'Killing Floor 2', u'Trove', u'Dragon Nest Europe', u'Dungeon Defenders II', u\"Don't Starve Together Beta\"]\n",
      "[u\"Sid Meier's Civilization V\", u'Prison Architect', u'Port Royale 3', u'Cities: Skylines', u'Banished', u'Euro Truck Simulator 2', u'Cities XL Platinum', u'Reus', u\"Sid Meier's Railroads!\", u'Cities in Motion 2', u'SEGA Genesis & Mega Drive Classics', u'Football Manager 2009', u'Age of Empires\\xae III: Complete Collection', u'Expeditions: Conquistador', u'Valkyria Chronicles\\u2122', u'Bejeweled 3', u'Game Dev Tycoon', u'Faerie Solitaire', u'Dust: An Elysian Tail', u'The Banner Saga']\n",
      "[u\"Garry's Mod\", u'Counter-Strike: Global Offensive', u'Team Fortress 2', u'Rust', u'MAGIX Movie Edit Pro 2014 Plus', u'H1Z1: Just Survive', u'DayZ', u'Source Filmmaker', u'Grand Theft Auto V', u'Left 4 Dead 2', u'Mount & Blade: Warband', u'Reign Of Kings', u'Chivalry: Medieval Warfare', u'ARK: Survival Evolved', u'SMITE', u'Hotline Miami 2: Wrong Number', u'Duck Game', u'SpeedRunners', u'7 Days to Die', u'Rocket League']\n",
      "[u'Dota 2', u'Team Fortress 2', u'The Elder Scrolls V: Skyrim', u'Stardew Valley', u'Orcs Must Die! 2', u'Portal 2', u'Torchlight II', u'Terraria', u\"Defender's Quest: Valley of the Forgotten\", u\"Recettear: An Item Shop's Tale\", u'Half Minute Hero: The Second Coming', u'Grand Theft Auto IV', u'The Witcher 2: Assassins of Kings Enhanced Edition', u'Fable III', u'The Ship', u'Zafehouse: Diaries', u'The Book of Unwritten Tales 2', u'The Talos Principle', u'Lilly and Sasha: Curse of the Immortals', u'Tropico 4']\n",
      "[u'Dota 2', u'Team Fortress 2', u'Counter-Strike: Global Offensive', u'Grand Theft Auto: Vice City', u'Grand Theft Auto: San Andreas', u\"Garry's Mod\", u'Half-Life 2', u'PAYDAY: The Heist', u'Half-Life 2: Episode One', u'Risk of Rain', u'Just Cause 2', u'Left 4 Dead 2', u'Euro Truck Simulator 2', u'NARUTO SHIPPUDEN: Ultimate Ninja STORM 3 Full Burst', u'Super Hexagon', u\"Mirror's Edge\", u'BattleBlock Theater', u'SpeedRunners', u'Scribblenauts Unlimited', u'Thomas Was Alone']\n",
      "[u'Rocket League', u'Fallout 4', u'Borderlands 2', u'Grand Theft Auto V', u'Cities: Skylines', u'Planetary Annihilation', u'Democracy 3', u'Total War: ROME II - Emperor Edition', u'You Need A Budget 4 (YNAB)', u\"Sid Meier's Civilization V\", u'Sniper Elite 3', u'Empire: Total War', u'Dying Light', u'Portal 2', u'Endless Space', u'Keep Talking and Nobody Explodes', u'Kerbal Space Program', u'Firewatch', u'Team Fortress 2', u'Absolute Drift']\n",
      "[u'The Elder Scrolls V: Skyrim', u'Kingdoms of Amalur: Reckoning\\u2122', u'The Witcher 3: Wild Hunt', u\"Assassin's Creed Unity\", u'Fallout: New Vegas', u'Fallout 4', u'Borderlands 2', u'Mass Effect 2', u'Saints Row IV', u\"Assassin's Creed Syndicate\", u'Rise of the Tomb Raider', u'Warframe', u'Dishonored', u'Tropico 5', u'Call of Duty: Black Ops III', u'Path of Exile', u'Far Cry Primal', u'Dark Souls: Prepare to Die Edition', u\"Dragon's Dogma: Dark Arisen\", u'Life Is Strange\\u2122']\n",
      "[u'The Elder Scrolls V: Skyrim', u'Batman\\u2122: Arkham Origins', u\"Assassin's Creed IV Black Flag\", u'Fallout 4', u'Middle-earth: Shadow of Mordor', u'Just Cause 2', u'Terraria', u'Star Wars - Battlefront II', u'Borderlands 2', u'Fallout: New Vegas', u'The Witcher 3: Wild Hunt', u'Dishonored', u'PlanetSide 2', u'Pixel Piracy', u'Team Fortress 2', u'Just Cause 2: Multiplayer Mod', u'BattleBlock Theater', u'Dirty Bomb', u\"Garry's Mod\", u'Metro 2033 Redux']\n",
      "[u'Arma 3', u'Counter-Strike: Global Offensive', u\"Garry's Mod\", u'Grand Theft Auto V', u'Company of Heroes 2', u'Euro Truck Simulator 2', u'Microsoft Flight Simulator X: Steam Edition', u'Rust', u'Wargame: AirLand Battle', u\"Sid Meier's Civilization V\", u'DCS World', u'Arma 2: Operation Arrowhead', u'Team Fortress 2', u'Elite Dangerous', u'Space Engineers', u'Call of Duty: Black Ops III', u'Farming Simulator 15', u'Farming Simulator 2013', u'PAYDAY 2', u'DayZ']\n",
      "[u'Arma 3', u'Counter-Strike: Global Offensive', u'Arma 2: Operation Arrowhead', u'Grand Theft Auto V', u'Call of Duty: Modern Warfare 2 - Multiplayer', u'Call of Duty: Black Ops II - Multiplayer', u'Rocket League', u\"Tom Clancy's Rainbow Six: Vegas 2\", u'PAYDAY 2', u'Borderlands 2', u'Elite Dangerous', u'Team Fortress 2', u'Dying Light', u'Killing Floor 2', u'The Witcher 2: Assassins of Kings Enhanced Edition', u'METAL GEAR SOLID V: THE PHANTOM PAIN', u'Rust', u'TrackMania\\xb2 Canyon', u'Portal 2', u'DayZ']\n",
      "[u'Team Fortress 2', u\"Sid Meier's Civilization V\", u\"Garry's Mod\", u'Counter-Strike: Global Offensive', u'Clicker Heroes', u'Spiral Knights', u'Terraria', u'Saints Row: The Third', u'Combat Arms', u'H1Z1: Just Survive', u'Borderlands 2', u'Saints Row IV', u'Unturned', u'Left 4 Dead 2', u'Warframe', u'Time Clickers', u'AdVenture Capitalist', u'Chivalry: Medieval Warfare', u'Fallout: New Vegas', u'Goat Simulator']\n",
      "[u'Counter-Strike: Global Offensive', u'Arma 3', u'Arma 2: Operation Arrowhead', u'DayZ', u'H1Z1: Just Survive', u'H1Z1: King of the Kill', u'Rust', u\"Tom Clancy's Ghost Recon Phantoms - NA\", u'Team Fortress 2', u'Reign Of Kings', u'Dirty Bomb', u'Insurgency', u'APB Reloaded', u'Call of Duty: Black Ops III', u'Double Action: Boogaloo', u'Heroes & Generals', u'A.V.A - Alliance of Valiant Arms', u'Unturned', u'Arma 2', u'Arma 2: DayZ Mod']\n",
      "[u'Team Fortress 2', u'Counter-Strike: Global Offensive', u\"Garry's Mod\", u'Call of Duty: Modern Warfare 3 - Multiplayer', u'Counter-Strike: Source', u'Terraria', u'BLOCKADE 3D', u'Call of Duty: Modern Warfare 2 - Multiplayer', u'A.V.A - Alliance of Valiant Arms', u'Unturned', u\"Don't Starve Together Beta\", u'Killing Floor', u'Castle Crashers', u'Loadout', u\"Sid Meier's Civilization V\", u'Left 4 Dead 2', u'Game Dev Tycoon', u'Magicka: Wizard Wars', u\"Five Nights at Freddy's\", u'Mount Your Friends']\n",
      "[u'Dota 2', u'Terraria', u\"Sid Meier's Civilization V\", u'PlanetSide 2', u'XCOM 2', u'Deus Ex: Human Revolution', u'Warframe', u'Frozen Synapse', u'Far Cry\\xae 3', u'Arma 2: Operation Arrowhead', u'Arma 3', u\"Garry's Mod\", u'BioShock Infinite', u'FINAL FANTASY VII', u'Left 4 Dead 2', u'Portal 2', u'Duke Nukem 3D: Megaton Edition', u'Scribblenauts Unlimited', u'FINAL FANTASY XIV: A Realm Reborn', u'Dust: An Elysian Tail']\n",
      "[u'The Elder Scrolls V: Skyrim', u\"Sid Meier's Civilization V\", u'XCOM 2', u'Borderlands: The Pre-Sequel', u'Borderlands 2', u'Team Fortress 2', u'Fallout 4', u'Torchlight', u'TERA', u\"Sid Meier's Civilization III: Complete\", u'Torchlight II', u\"Sid Meier's Civilization: Beyond Earth\", u'Pillars of Eternity', u'Divinity: Original Sin (Classic)', u'Game of Thrones - A Telltale Games Series', u'Warframe', u'FINAL FANTASY VIII', u'Dragon Age: Origins - Ultimate Edition', u'Tomb Raider', u'Alien: Isolation']\n",
      "[u'Counter-Strike: Global Offensive', u'Team Fortress 2', u'Grand Theft Auto V', u'Left 4 Dead 2', u'Fallout 4', u'Killing Floor 2', u'The Elder Scrolls V: Skyrim', u'PAYDAY: The Heist', u\"Garry's Mod\", u'Just Cause 2', u\"Tom Clancy's Ghost Recon Phantoms - NA\", u'Next Car Game: Wreckfest', u'PAYDAY 2', u'Gas Guzzlers Extreme', u'Metro: Last Light', u'Fallout: New Vegas', u'Life Is Strange\\u2122', u'Red Faction: Guerrilla Steam Edition', u'State of Decay', u'Dead Island']\n",
      "[u'War Thunder', u'Men of War: Assault Squad 2', u'Europa Universalis IV', u'R.U.S.E', u'Empire: Total War', u'Sins of a Solar Empire: Rebellion', u'SuperPower 2 Steam Edition', u'Prison Architect', u'Planetary Annihilation', u\"Sid Meier's Civilization V\", u'Supreme Ruler Cold War', u'Total War: SHOGUN 2', u'Wargame: Red Dragon', u'Banished', u'Company of Heroes 2', u'The Forest', u'Heroes & Generals', u'Battlestations: Pacific', u\"Sid Meier's Civilization: Beyond Earth\", u'Rising Storm/Red Orchestra 2 Multiplayer']\n",
      "[u'Europa Universalis IV', u'Stronghold Kingdoms', u'Space Engineers', u'Empire: Total War', u'Crusader Kings II', u'Prison Architect', u'Total War: ROME II - Emperor Edition', u'Towns', u'Kerbal Space Program', u'Cities: Skylines', u\"Assassin's Creed IV Black Flag\", u'Medieval II: Total War', u'Medieval Engineers', u'Grand Theft Auto V', u\"Assassin's Creed Unity\", u\"Assassin's Creed Syndicate\", u'Watch_Dogs', u'Planetbase', u'Gnomoria', u'Elite Dangerous']\n",
      "[u'The Elder Scrolls V: Skyrim', u'Fallout 4', u'Fallout: New Vegas', u'Pillars of Eternity', u'Divinity: Original Sin (Classic)', u'Dragon Age: Origins - Ultimate Edition', u'BioShock Infinite', u'The Witcher: Enhanced Edition', u'Risen 2 - Dark Waters', u'Divinity: Original Sin Enhanced Edition', u'Terraria', u\"Divinity II: Developer's Cut\", u'Wasteland 2', u'Divine Divinity', u'Fallout 3 - Game of the Year Edition', u'The Witcher 2: Assassins of Kings Enhanced Edition', u'Risen 3 - Titan Lords', u'Legend of Grimrock', u'Two Worlds II', u'ArcaniA']\n",
      "[u'Dota 2', u'ArcheAge', u'The Elder Scrolls Online: Tamriel Unlimited', u'ARK: Survival Evolved', u'Counter-Strike: Global Offensive', u'Team Fortress 2', u'Landmark', u'Age of Mythology: Extended Edition', u'The Binding of Isaac', u'The Binding of Isaac: Rebirth', u\"Sid Meier's Civilization V\", u'FINAL FANTASY XIV: A Realm Reborn', u'Goodbye Deponia', u'BioShock Infinite', u'BattleBlock Theater', u'The Elder Scrolls V: Skyrim', u'Bastion', u'Loadout', u'Rayman Legends', u'Deponia']\n",
      "[u'Counter-Strike: Global Offensive', u'Grand Theft Auto V', u'Fallout 4', u'The Elder Scrolls V: Skyrim', u'Counter-Strike: Source', u'Half-Life 2', u'Terraria', u'Meltdown', u'Game Dev Tycoon', u'Team Fortress 2', u'Kerbal Space Program', u'Borderlands 2', u'Left 4 Dead 2', u'Depth Hunter 2: Deep Dive', u'Super Hexagon', u'Delve Deeper', u\"Montague's Mount\", u'PAYDAY: The Heist', u'Bad Rats', u'ORION: Prelude']\n",
      "[u'Total War: ROME II - Emperor Edition', u'Counter-Strike: Global Offensive', u'Mount & Blade: Warband', u'Grand Theft Auto V', u'H1Z1: Just Survive', u'The Elder Scrolls V: Skyrim', u'Fallout 4', u'Total War: SHOGUN 2', u'PAYDAY 2', u'Call of Duty: World at War', u\"Sid Meier's Civilization V\", u'Mad Max', u'Far Cry\\xae 3', u'State of Decay', u'Total War: ATTILA', u'Game of Thrones - A Telltale Games Series', u'Fallout 3', u'Verdun', u'Far Cry 4', u'Napoleon: Total War']\n",
      "[u\"Don't Starve\", u'Counter-Strike: Source', u'Natural Selection 2', u'Company of Heroes 2', u'The Banner Saga', u'PlanetSide 2', u'Counter-Strike: Global Offensive', u'Warframe', u'Team Fortress 2', u'Robocraft', u'Fallout 4', u'Far Cry\\xae 3', u'Dead Island Riptide', u'Left 4 Dead 2', u'Blacklight: Retribution', u'Borderlands', u'Fallout: New Vegas', u'Deus Ex: Human Revolution', u'Call of Duty 4: Modern Warfare', u'Borderlands: The Pre-Sequel']\n",
      "[u'Borderlands 2', u'Counter-Strike: Global Offensive', u'PAYDAY 2', u'The Elder Scrolls V: Skyrim', u'Mount & Blade: Warband', u\"Sid Meier's Civilization V\", u'Grand Theft Auto V', u'Vindictus', u'DC Universe Online', u'Fallout: New Vegas', u'Dying Light', u'Dead Island', u'XCOM: Enemy Unknown', u'Fallout 3 - Game of the Year Edition', u\"Sid Meier's Civilization: Beyond Earth\", u'Fallout 4', u'Mount & Blade', u'Killing Floor 2', u'Far Cry 4', u'Borderlands']\n",
      "[u'Rust', u\"Tom Clancy's Rainbow Six Siege\", u'The Elder Scrolls V: Skyrim', u'The Witcher 3: Wild Hunt', u'The Witcher 2: Assassins of Kings Enhanced Edition', u'Fallout 4', u'Fallout 3', u'Dragon Age: Origins - Ultimate Edition', u'Counter-Strike: Global Offensive', u'Middle-earth: Shadow of Mordor', u'Dying Light', u'Dishonored', u'The Elder Scrolls IV: Oblivion', u'PAYDAY 2', u'BioShock', u\"Mirror's Edge\", u'BioShock Infinite', u'Dark Souls: Prepare to Die Edition', u'BioShock 2', u'Bad Rats']\n",
      "[u'Chivalry: Medieval Warfare', u'Rust', u'Natural Selection 2', u\"Sid Meier's Civilization V\", u'Counter-Strike: Global Offensive', u'DayZ', u'Total War: ATTILA', u'FTL: Faster Than Light', u'Call of Duty: Modern Warfare 3 - Multiplayer', u'The Binding of Isaac', u\"Don't Starve\", u'This War of Mine', u'PlanetSide 2', u'Insurgency', u'Company of Heroes 2', u'Blacklight: Retribution', u'The Binding of Isaac: Rebirth', u\"Sid Meier's Civilization: Beyond Earth\", u'Age of Empires Online', u'Empire: Total War']\n",
      "[u\"Garry's Mod\", u'Arma 3', u'Rust', u'Counter-Strike: Global Offensive', u'Trove', u'ARK: Survival Evolved', u'PlanetSide 2', u'Arma 2: Operation Arrowhead', u'H1Z1: Just Survive', u'DayZ', u'Path of Exile', u'Aura Kingdom', u'Team Fortress 2', u'Unturned', u'Wolfenstein: The New Order', u'PAYDAY 2', u'Killing Floor', u'Sunrider: Mask of Arcadius', u'Robocraft', u'No More Room in Hell']\n",
      "[u\"Garry's Mod\", u'Team Fortress 2', u'Counter-Strike: Global Offensive', u'Mount & Blade: Warband', u\"Sid Meier's Civilization V\", u'Starbound', u'The Elder Scrolls V: Skyrim', u'Arma 3', u'PlanetSide 2', u'Grand Theft Auto V', u'DayZ', u'STAR WARS\\u2122 Knights of the Old Republic\\u2122 II: The Sith Lords\\u2122', u\"Assassin's Creed IV Black Flag\", u'Warhammer: End Times - Vermintide', u'The Secret World', u'Fallout 3 - Game of the Year Edition', u'Unturned', u'No More Room in Hell', u'Dishonored', u'Star Wars: Empire at War Gold']\n",
      "[u'Counter-Strike: Global Offensive', u'Counter-Strike: Source', u'Team Fortress 2', u'Grand Theft Auto V', u'Call of Duty: Black Ops III', u'H1Z1: Just Survive', u\"Garry's Mod\", u'Dota 2', u'Unturned', u'Counter-Strike', u'Rocket League', u'SpeedRunners', u'Call of Duty: World at War', u'Loadout', u'H1Z1: King of the Kill', u'Arma 3', u'Borderlands 2', u'Day of Defeat: Source', u'Archeblade', u'Saints Row: The Third']\n",
      "[u'Counter-Strike: Global Offensive', u'The Elder Scrolls V: Skyrim', u'Grand Theft Auto V', u'The Witcher 3: Wild Hunt', u'PAYDAY 2', u'Call of Duty: Advanced Warfare - Multiplayer', u'Fallout 4', u'Call of Duty: Modern Warfare 3 - Multiplayer', u'Total War: ROME II - Emperor Edition', u'Borderlands 2', u'METAL GEAR SOLID V: THE PHANTOM PAIN', u'Just Cause 3', u\"Deus Ex: Human Revolution - Director's Cut\", u'Far Cry 4', u'Dishonored', u'Euro Truck Simulator 2', u'Batman\\u2122: Arkham Knight', u'Fallout: New Vegas', u'NBA 2K15', u'The Forest']\n",
      "[u'The Elder Scrolls V: Skyrim', u\"Garry's Mod\", u'Counter-Strike: Global Offensive', u'Chivalry: Medieval Warfare', u'Total War: ATTILA', u'Besiege', u'Elite Dangerous', u'Age of Empires\\xae III: Complete Collection', u'Team Fortress 2', u'Halo: Spartan Strike', u'TOXIKK', u'Guns of Icarus Online', u'Stranded Deep', u'Rust', u'Unturned', u'Middle-earth: Shadow of Mordor', u'Patch testing for Chivalry', u'Skyrim High Resolution Texture Pack', u'The Elder Scrolls V: Skyrim - Dawnguard', u'The Elder Scrolls V: Skyrim - Dragonborn']\n",
      "[u'The Elder Scrolls V: Skyrim', u'Grand Theft Auto V', u'The Witcher 3: Wild Hunt', u'Sleeping Dogs: Definitive Edition', u'Dota 2', u\"Sid Meier's Civilization V\", u'RAGE', u'Deus Ex: Human Revolution', u'Fallout 3 - Game of the Year Edition', u'Battlefield: Bad Company 2', u'METAL GEAR SOLID V: THE PHANTOM PAIN', u'Ryse: Son of Rome', u'SMITE', u'Supreme Commander', u'Elite Dangerous', u'Counter-Strike: Global Offensive', u'Star Wars: The Force Unleashed Ultimate Sith Edition', u'Medal of Honor(TM) Single Player', u'Unreal Tournament 2004', u'Quake II']\n",
      "[u'Space Engineers', u'War Thunder', u'The Elder Scrolls V: Skyrim', u'Team Fortress 2', u'Trove', u\"Garry's Mod\", u'Warhammer 40,000: Dawn of War \\u2013 Soulstorm', u'Elite Dangerous', u'Unturned', u'Homeworld Remastered Collection', u'Take On Mars', u'Counter-Strike: Global Offensive', u'Portal 2', u'Star Trek Online', u'Mars Colony: Challenger', u'Star Wars: Empire at War Gold', u'Blender 2.77', u'PlanetSide 2', u'Firefall', u'Silo 2']\n",
      "[u'Dark Souls: Prepare to Die Edition', u'DARK SOULS\\u2122 II', u'DARK SOULS\\u2122 II: Scholar of the First Sin', u'LEGO\\xae The Lord of the Rings\\u2122', u'The Lord of the Rings Online\\u2122', u'March of War', u\"Don't Starve\", u'Starbound', u'FTL: Faster Than Light', u'Torchlight II', u'The Elder Scrolls V: Skyrim', u'Galaxy on Fire 2\\u2122 Full HD', u'Terraria', u'Fallout: New Vegas', u'Serious Sam 3: BFE', u'Card Hunter', u'Hammerwatch', u'Pillars of Eternity', u'XCOM: Enemy Unknown', u'Guacamelee! Gold Edition']\n",
      "[u'DC Universe Online', u'Dead Island', u'South Park\\u2122: The Stick of Truth\\u2122', u'FINAL FANTASY XIV: A Realm Reborn', u'Dragon Age: Origins - Ultimate Edition', u'Batman: Arkham City GOTY', u'Terraria', u'The Binding of Isaac: Rebirth', u'Fallout 3 - Game of the Year Edition', u'Fallout: New Vegas', u'Star Wars: Knights of the Old Republic', u'Bully: Scholarship Edition', u'STAR WARS\\u2122 Knights of the Old Republic\\u2122 II: The Sith Lords\\u2122', u'Saints Row 2', u'Mabinogi', u'Saints Row: The Third', u'Geometry Dash', u'Marvel Heroes 2016', u'Batman: Arkham City\\u2122', u'Duke Nukem Forever']\n",
      "[u'Grand Theft Auto V', u'Stronghold 2', u'Dirty Bomb', u'The Elder Scrolls V: Skyrim', u'Call of Duty: Modern Warfare 2 - Multiplayer', u\"Sid Meier's Civilization V\", u'Terraria', u\"Garry's Mod\", u'Starbound', u'Saints Row IV', u'Dying Light', u'Rocket League', u'Amnesia: The Dark Descent', u'Saints Row: The Third', u'Darksiders', u'Portal 2', u'Darksiders II', u'APB Reloaded', u'The Binding of Isaac', u'Orcs Must Die! 2']\n",
      "[u'Team Fortress 2', u'Europa Universalis IV', u'Grand Theft Auto V', u'Terraria', u'Kerbal Space Program', u\"Garry's Mod\", u\"Sid Meier's Civilization V\", u'Counter-Strike: Global Offensive', u'Grand Theft Auto IV', u'Just Cause 2', u'Portal 2', u'Left 4 Dead 2', u'Grand Theft Auto: San Andreas', u'Call of Duty: World at War', u'Rocket League', u'Game Dev Tycoon', u'AdVenture Capitalist', u'Half-Life 2', u'Metro: Last Light', u'Euro Truck Simulator 2']\n",
      "[u'Team Fortress 2', u\"Garry's Mod\", u'The Elder Scrolls V: Skyrim', u'Terraria', u'Super Monday Night Combat', u'Borderlands 2', u'Dying Light', u'Dungeon Defenders', u'Grand Theft Auto V', u'Portal 2', u\"Mirror's Edge\", u'Super Meat Boy', u'Call of Duty 4: Modern Warfare', u'Dead Island', u'L.A. Noire', u'Left 4 Dead 2', u\"Assassin's Creed\", u'PAYDAY 2', u'Saints Row: The Third', u'Source Filmmaker']\n",
      "[u'Train Simulator', u'Trainz Simulator 12', u\"Garry's Mod\", u'Team Fortress 2', u'IL-2 Sturmovik: 1946', u'Turbo Dismount', u'American Truck Simulator', u'FlatOut 2', u'StarMade', u'BeamNG.drive', u'Microsoft Flight Simulator X: Steam Edition', u'Clicker Heroes', u'Crash Time II', u'I am Bread', u'TrackMania Nations Forever', u'Robocraft', u'War Thunder', u'Dead Island: Epidemic', u'Moonbase Alpha', u'Navy Field 2 : Conqueror of the Ocean']\n",
      "[u'Arma 3', u'Mount & Blade: Warband', u'Arma 2: Operation Arrowhead Beta (Obsolete)', u'War Thunder', u'Kerbal Space Program', u'Grand Theft Auto V', u'PAYDAY 2', u'The Elder Scrolls V: Skyrim', u'Killing Floor', u'Dark Souls: Prepare to Die Edition', u'Assetto Corsa', u'E.Y.E: Divine Cybermancy', u'Space Engineers', u'Euro Truck Simulator 2', u'Mount & Blade: With Fire and Sword', u'Project CARS', u\"Sid Meier's Civilization V\", u'Arma 2: Operation Arrowhead', u'Fallout 4', u'Company of Heroes 2']\n",
      "[u'Team Fortress 2', u'Dungeons of Dredmor', u'Plants vs. Zombies: Game of the Year', u'The Binding of Isaac: Rebirth', u'Might & Magic: Clash of Heroes', u'The Witness', u'Stardew Valley', u'FTL: Faster Than Light', u'Before the Echo', u'Torchlight', u'Divekick', u'Rogue Legacy', u'Viridi', u'Papers, Please', u'The Elder Scrolls V: Skyrim', u'Dark Souls: Prepare to Die Edition', u'Torchlight II', u'Antichamber', u'Crypt of the NecroDancer', u'XCOM: Enemy Unknown']\n",
      "[u'METAL GEAR SOLID V: THE PHANTOM PAIN', u'The Elder Scrolls V: Skyrim', u'Grand Theft Auto V', u'Sleeping Dogs: Definitive Edition', u\"Sid Meier's Civilization V\", u'Total War: SHOGUN 2', u'FINAL FANTASY XIV: A Realm Reborn', u'Company of Heroes 2', u'PlanetSide 2', u'Mount & Blade: Warband', u'Crusader Kings II', u'Saints Row: The Third', u'Arma 2', u'Fallout: New Vegas', u'Dragon Age: Origins - Ultimate Edition', u'Men of War: Assault Squad 2', u\"Assassin's Creed IV Black Flag\", u'Grand Theft Auto IV', u'DEFCON', u'Mass Effect 2']\n"
     ]
    },
    {
     "name": "stderr",
     "output_type": "stream",
     "text": [
      "Exception WindowsError: WindowsError(32, '') in <bound method Service.__del__ of <selenium.webdriver.phantomjs.service.Service object at 0x0000000008B3AC18>> ignored\n"
     ]
    },
    {
     "ename": "WebDriverException",
     "evalue": "Message: {\"request\":{\"headers\":{\"Accept\":\"application/json\",\"Accept-Encoding\":\"identity\",\"Connection\":\"close\",\"Content-Length\":\"144\",\"Content-Type\":\"application/json;charset=UTF-8\",\"Host\":\"127.0.0.1:4011\",\"User-Agent\":\"Python-urllib/2.7\"},\"httpVersion\":\"1.1\",\"method\":\"POST\",\"post\":\"{\\\"using\\\": \\\"css selector\\\", \\\"sessionId\\\": \\\"b3542720-f353-11e5-bc83-a9290a0aba91\\\", \\\"value\\\": \\\"div#games_list_rows div.gameListRowItemName.ellipsis \\\"}\",\"url\":\"/elements\",\"urlParsed\":{\"anchor\":\"\",\"query\":\"\",\"file\":\"elements\",\"directory\":\"/\",\"path\":\"/elements\",\"relative\":\"/elements\",\"port\":\"\",\"host\":\"\",\"password\":\"\",\"user\":\"\",\"userInfo\":\"\",\"authority\":\"\",\"protocol\":\"\",\"source\":\"/elements\",\"queryKey\":{},\"chunks\":[\"elements\"]},\"urlOriginal\":\"/session/b3542720-f353-11e5-bc83-a9290a0aba91/elements\"}}\nScreenshot: available via screen\n",
     "output_type": "error",
     "traceback": [
      "\u001b[1;31m---------------------------------------------------------------------------\u001b[0m",
      "\u001b[1;31mWebDriverException\u001b[0m                        Traceback (most recent call last)",
      "\u001b[1;32m<ipython-input-6-828f3af85c1c>\u001b[0m in \u001b[0;36m<module>\u001b[1;34m()\u001b[0m\n\u001b[0;32m      8\u001b[0m     \u001b[1;32mtry\u001b[0m\u001b[1;33m:\u001b[0m\u001b[1;33m\u001b[0m\u001b[0m\n\u001b[0;32m      9\u001b[0m         \u001b[0mdriver\u001b[0m\u001b[1;33m.\u001b[0m\u001b[0mget\u001b[0m\u001b[1;33m(\u001b[0m\u001b[0mlink\u001b[0m \u001b[1;33m+\u001b[0m \u001b[1;34m\"games/?tab=all\"\u001b[0m\u001b[1;33m)\u001b[0m\u001b[1;33m\u001b[0m\u001b[0m\n\u001b[1;32m---> 10\u001b[1;33m         \u001b[0mgame_elements\u001b[0m \u001b[1;33m=\u001b[0m \u001b[0mdriver\u001b[0m\u001b[1;33m.\u001b[0m\u001b[0mfind_elements_by_css_selector\u001b[0m\u001b[1;33m(\u001b[0m\u001b[1;34m\"div#games_list_rows div.gameListRowItemName.ellipsis \"\u001b[0m\u001b[1;33m)\u001b[0m\u001b[1;33m\u001b[0m\u001b[0m\n\u001b[0m\u001b[0;32m     11\u001b[0m         \u001b[0mone_owner_list\u001b[0m \u001b[1;33m=\u001b[0m \u001b[1;33m[\u001b[0m\u001b[1;33m]\u001b[0m\u001b[1;33m\u001b[0m\u001b[0m\n\u001b[0;32m     12\u001b[0m         \u001b[1;32mif\u001b[0m\u001b[1;33m(\u001b[0m\u001b[0mlen\u001b[0m\u001b[1;33m(\u001b[0m\u001b[0mgame_elements\u001b[0m\u001b[1;33m)\u001b[0m \u001b[1;33m>\u001b[0m \u001b[1;36m20\u001b[0m\u001b[1;33m)\u001b[0m\u001b[1;33m:\u001b[0m\u001b[1;33m\u001b[0m\u001b[0m\n",
      "\u001b[1;32mC:\\Anaconda2\\lib\\site-packages\\selenium\\webdriver\\remote\\webdriver.pyc\u001b[0m in \u001b[0;36mfind_elements_by_css_selector\u001b[1;34m(self, css_selector)\u001b[0m\n\u001b[0;32m    444\u001b[0m             \u001b[0mdriver\u001b[0m\u001b[1;33m.\u001b[0m\u001b[0mfind_elements_by_css_selector\u001b[0m\u001b[1;33m(\u001b[0m\u001b[1;34m'.foo'\u001b[0m\u001b[1;33m)\u001b[0m\u001b[1;33m\u001b[0m\u001b[0m\n\u001b[0;32m    445\u001b[0m         \"\"\"\n\u001b[1;32m--> 446\u001b[1;33m         \u001b[1;32mreturn\u001b[0m \u001b[0mself\u001b[0m\u001b[1;33m.\u001b[0m\u001b[0mfind_elements\u001b[0m\u001b[1;33m(\u001b[0m\u001b[0mby\u001b[0m\u001b[1;33m=\u001b[0m\u001b[0mBy\u001b[0m\u001b[1;33m.\u001b[0m\u001b[0mCSS_SELECTOR\u001b[0m\u001b[1;33m,\u001b[0m \u001b[0mvalue\u001b[0m\u001b[1;33m=\u001b[0m\u001b[0mcss_selector\u001b[0m\u001b[1;33m)\u001b[0m\u001b[1;33m\u001b[0m\u001b[0m\n\u001b[0m\u001b[0;32m    447\u001b[0m \u001b[1;33m\u001b[0m\u001b[0m\n\u001b[0;32m    448\u001b[0m     \u001b[1;32mdef\u001b[0m \u001b[0mexecute_script\u001b[0m\u001b[1;33m(\u001b[0m\u001b[0mself\u001b[0m\u001b[1;33m,\u001b[0m \u001b[0mscript\u001b[0m\u001b[1;33m,\u001b[0m \u001b[1;33m*\u001b[0m\u001b[0margs\u001b[0m\u001b[1;33m)\u001b[0m\u001b[1;33m:\u001b[0m\u001b[1;33m\u001b[0m\u001b[0m\n",
      "\u001b[1;32mC:\\Anaconda2\\lib\\site-packages\\selenium\\webdriver\\remote\\webdriver.pyc\u001b[0m in \u001b[0;36mfind_elements\u001b[1;34m(self, by, value)\u001b[0m\n\u001b[0;32m    769\u001b[0m \u001b[1;33m\u001b[0m\u001b[0m\n\u001b[0;32m    770\u001b[0m         return self.execute(Command.FIND_ELEMENTS,\n\u001b[1;32m--> 771\u001b[1;33m                              {'using': by, 'value': value})['value']\n\u001b[0m\u001b[0;32m    772\u001b[0m     \u001b[1;33m@\u001b[0m\u001b[0mproperty\u001b[0m\u001b[1;33m\u001b[0m\u001b[0m\n\u001b[0;32m    773\u001b[0m     \u001b[1;32mdef\u001b[0m \u001b[0mdesired_capabilities\u001b[0m\u001b[1;33m(\u001b[0m\u001b[0mself\u001b[0m\u001b[1;33m)\u001b[0m\u001b[1;33m:\u001b[0m\u001b[1;33m\u001b[0m\u001b[0m\n",
      "\u001b[1;32mC:\\Anaconda2\\lib\\site-packages\\selenium\\webdriver\\remote\\webdriver.pyc\u001b[0m in \u001b[0;36mexecute\u001b[1;34m(self, driver_command, params)\u001b[0m\n\u001b[0;32m    231\u001b[0m         \u001b[0mresponse\u001b[0m \u001b[1;33m=\u001b[0m \u001b[0mself\u001b[0m\u001b[1;33m.\u001b[0m\u001b[0mcommand_executor\u001b[0m\u001b[1;33m.\u001b[0m\u001b[0mexecute\u001b[0m\u001b[1;33m(\u001b[0m\u001b[0mdriver_command\u001b[0m\u001b[1;33m,\u001b[0m \u001b[0mparams\u001b[0m\u001b[1;33m)\u001b[0m\u001b[1;33m\u001b[0m\u001b[0m\n\u001b[0;32m    232\u001b[0m         \u001b[1;32mif\u001b[0m \u001b[0mresponse\u001b[0m\u001b[1;33m:\u001b[0m\u001b[1;33m\u001b[0m\u001b[0m\n\u001b[1;32m--> 233\u001b[1;33m             \u001b[0mself\u001b[0m\u001b[1;33m.\u001b[0m\u001b[0merror_handler\u001b[0m\u001b[1;33m.\u001b[0m\u001b[0mcheck_response\u001b[0m\u001b[1;33m(\u001b[0m\u001b[0mresponse\u001b[0m\u001b[1;33m)\u001b[0m\u001b[1;33m\u001b[0m\u001b[0m\n\u001b[0m\u001b[0;32m    234\u001b[0m             response['value'] = self._unwrap_value(\n\u001b[0;32m    235\u001b[0m                 response.get('value', None))\n",
      "\u001b[1;32mC:\\Anaconda2\\lib\\site-packages\\selenium\\webdriver\\remote\\errorhandler.pyc\u001b[0m in \u001b[0;36mcheck_response\u001b[1;34m(self, response)\u001b[0m\n\u001b[0;32m    192\u001b[0m         \u001b[1;32melif\u001b[0m \u001b[0mexception_class\u001b[0m \u001b[1;33m==\u001b[0m \u001b[0mUnexpectedAlertPresentException\u001b[0m \u001b[1;32mand\u001b[0m \u001b[1;34m'alert'\u001b[0m \u001b[1;32min\u001b[0m \u001b[0mvalue\u001b[0m\u001b[1;33m:\u001b[0m\u001b[1;33m\u001b[0m\u001b[0m\n\u001b[0;32m    193\u001b[0m             \u001b[1;32mraise\u001b[0m \u001b[0mexception_class\u001b[0m\u001b[1;33m(\u001b[0m\u001b[0mmessage\u001b[0m\u001b[1;33m,\u001b[0m \u001b[0mscreen\u001b[0m\u001b[1;33m,\u001b[0m \u001b[0mstacktrace\u001b[0m\u001b[1;33m,\u001b[0m \u001b[0mvalue\u001b[0m\u001b[1;33m[\u001b[0m\u001b[1;34m'alert'\u001b[0m\u001b[1;33m]\u001b[0m\u001b[1;33m.\u001b[0m\u001b[0mget\u001b[0m\u001b[1;33m(\u001b[0m\u001b[1;34m'text'\u001b[0m\u001b[1;33m)\u001b[0m\u001b[1;33m)\u001b[0m\u001b[1;33m\u001b[0m\u001b[0m\n\u001b[1;32m--> 194\u001b[1;33m         \u001b[1;32mraise\u001b[0m \u001b[0mexception_class\u001b[0m\u001b[1;33m(\u001b[0m\u001b[0mmessage\u001b[0m\u001b[1;33m,\u001b[0m \u001b[0mscreen\u001b[0m\u001b[1;33m,\u001b[0m \u001b[0mstacktrace\u001b[0m\u001b[1;33m)\u001b[0m\u001b[1;33m\u001b[0m\u001b[0m\n\u001b[0m\u001b[0;32m    195\u001b[0m \u001b[1;33m\u001b[0m\u001b[0m\n\u001b[0;32m    196\u001b[0m     \u001b[1;32mdef\u001b[0m \u001b[0m_value_or_default\u001b[0m\u001b[1;33m(\u001b[0m\u001b[0mself\u001b[0m\u001b[1;33m,\u001b[0m \u001b[0mobj\u001b[0m\u001b[1;33m,\u001b[0m \u001b[0mkey\u001b[0m\u001b[1;33m,\u001b[0m \u001b[0mdefault\u001b[0m\u001b[1;33m)\u001b[0m\u001b[1;33m:\u001b[0m\u001b[1;33m\u001b[0m\u001b[0m\n",
      "\u001b[1;31mWebDriverException\u001b[0m: Message: {\"request\":{\"headers\":{\"Accept\":\"application/json\",\"Accept-Encoding\":\"identity\",\"Connection\":\"close\",\"Content-Length\":\"144\",\"Content-Type\":\"application/json;charset=UTF-8\",\"Host\":\"127.0.0.1:4011\",\"User-Agent\":\"Python-urllib/2.7\"},\"httpVersion\":\"1.1\",\"method\":\"POST\",\"post\":\"{\\\"using\\\": \\\"css selector\\\", \\\"sessionId\\\": \\\"b3542720-f353-11e5-bc83-a9290a0aba91\\\", \\\"value\\\": \\\"div#games_list_rows div.gameListRowItemName.ellipsis \\\"}\",\"url\":\"/elements\",\"urlParsed\":{\"anchor\":\"\",\"query\":\"\",\"file\":\"elements\",\"directory\":\"/\",\"path\":\"/elements\",\"relative\":\"/elements\",\"port\":\"\",\"host\":\"\",\"password\":\"\",\"user\":\"\",\"userInfo\":\"\",\"authority\":\"\",\"protocol\":\"\",\"source\":\"/elements\",\"queryKey\":{},\"chunks\":[\"elements\"]},\"urlOriginal\":\"/session/b3542720-f353-11e5-bc83-a9290a0aba91/elements\"}}\nScreenshot: available via screen\n"
     ]
    }
   ],
   "source": [
    "#리뷰어의 보유 게임 리스트 링크를 바탕으로 보유 게임을 최대 20개까지 크롤링\n",
    "#중간에 오류가 발견됨, 그러나 이틀동안 43000명의 보유 게임 리스트를 받은 관계로 잠시 보류\n",
    "driver = webdriver.PhantomJS()\n",
    "\n",
    "owner_list = []\n",
    "i = 0\n",
    "\n",
    "for link in reviewer_link_list:\n",
    "    try:\n",
    "        driver.get(link + \"games/?tab=all\")\n",
    "        game_elements = driver.find_elements_by_css_selector(\"div#games_list_rows div.gameListRowItemName.ellipsis \")\n",
    "        one_owner_list = []\n",
    "        if(len(game_elements) > 20):\n",
    "            for game_element in game_elements[:20]:\n",
    "                game = game_element.text\n",
    "                one_owner_list.append(game)\n",
    "            owner_list.append(one_owner_list)\n",
    "            i += 1\n",
    "            if(i % 1000 == 0):\n",
    "                print(one_owner_list)\n",
    "                f = open(\"owner_list_big_pickle.txt\", 'w')\n",
    "                pickle.dump(owner_list, f)\n",
    "                f.close()\n",
    "    except UnexpectedAlertPresentException:\n",
    "        pass\n",
    "driver.quit()  "
   ]
  },
  {
   "cell_type": "code",
   "execution_count": 7,
   "metadata": {
    "collapsed": false
   },
   "outputs": [
    {
     "data": {
      "text/plain": [
       "43581"
      ]
     },
     "execution_count": 7,
     "metadata": {},
     "output_type": "execute_result"
    }
   ],
   "source": [
    "len(owner_list_big)"
   ]
  },
  {
   "cell_type": "code",
   "execution_count": 2,
   "metadata": {
    "collapsed": true
   },
   "outputs": [],
   "source": [
    "f = open(\"owner_list_big_pickle.txt\")\n",
    "owner_list_big = pickle.load(f)\n",
    "f.close()"
   ]
  },
  {
   "cell_type": "code",
   "execution_count": 15,
   "metadata": {
    "collapsed": false
   },
   "outputs": [
    {
     "data": {
      "text/plain": [
       "[u\"Garry's Mod\",\n",
       " u'Dota 2',\n",
       " u\"Sid Meier's Civilization V\",\n",
       " u'Total War: SHOGUN 2',\n",
       " u'Crusader Kings II',\n",
       " u'Europa Universalis IV',\n",
       " u'Kerbal Space Program',\n",
       " u'The Elder Scrolls V: Skyrim',\n",
       " u'Arma 3',\n",
       " u'Counter-Strike: Global Offensive',\n",
       " u'Fallout 4',\n",
       " u'Fallout: New Vegas',\n",
       " u'Mount & Blade: Warband',\n",
       " u'Terraria',\n",
       " u'Total War: ATTILA',\n",
       " u'Rising Storm/Red Orchestra 2 Multiplayer',\n",
       " u'The Witcher 3: Wild Hunt',\n",
       " u'METAL GEAR SOLID V: THE PHANTOM PAIN',\n",
       " u'Cities: Skylines',\n",
       " u'XCOM 2']"
      ]
     },
     "execution_count": 15,
     "metadata": {},
     "output_type": "execute_result"
    }
   ],
   "source": [
    "owner_list_big[0]"
   ]
  },
  {
   "cell_type": "code",
   "execution_count": 3,
   "metadata": {
    "collapsed": false
   },
   "outputs": [],
   "source": [
    "model2 = Word2Vec(owner_list_big, window=5, min_count=0, sg=1, size=256, batch_words=700)"
   ]
  },
  {
   "cell_type": "code",
   "execution_count": 5,
   "metadata": {
    "collapsed": false
   },
   "outputs": [],
   "source": [
    "model2.save(\"game2vec_model\")"
   ]
  },
  {
   "cell_type": "code",
   "execution_count": 6,
   "metadata": {
    "collapsed": false
   },
   "outputs": [],
   "source": [
    "model2 = Word2Vec.load(\"game2vec_model\")"
   ]
  },
  {
   "cell_type": "code",
   "execution_count": 7,
   "metadata": {
    "collapsed": false
   },
   "outputs": [
    {
     "data": {
      "text/plain": [
       "5542"
      ]
     },
     "execution_count": 7,
     "metadata": {},
     "output_type": "execute_result"
    }
   ],
   "source": [
    "len(model2.syn0)"
   ]
  },
  {
   "cell_type": "code",
   "execution_count": 6,
   "metadata": {
    "collapsed": false
   },
   "outputs": [
    {
     "data": {
      "text/plain": [
       "[(u'Football Manager 2013', 0.9216866493225098),\n",
       " (u'Football Manager 2016', 0.9177965521812439),\n",
       " (u'Football Manager 2014', 0.9145956039428711),\n",
       " (u'Football Manager 2012', 0.9056244492530823),\n",
       " (u'Football Manager 2013 Russian', 0.8936604857444763),\n",
       " (u'Football Manager 2009', 0.8929958343505859),\n",
       " (u'Football Manager 2011', 0.8868577480316162),\n",
       " (u'Football Manager 2010', 0.8819534182548523),\n",
       " (u'Out of the Park Baseball 16', 0.8422746062278748),\n",
       " (u'NBA 2K13', 0.8183190822601318)]"
      ]
     },
     "execution_count": 6,
     "metadata": {},
     "output_type": "execute_result"
    }
   ],
   "source": [
    "model2.most_similar(positive=[u'Football Manager 2015'], topn=10)"
   ]
  },
  {
   "cell_type": "code",
   "execution_count": 8,
   "metadata": {
    "collapsed": false
   },
   "outputs": [
    {
     "data": {
      "text/plain": [
       "[(u'League of Legends', 0.7461559176445007),\n",
       " (u'ShootMania Storm', 0.7292128801345825),\n",
       " (u'MorphVOX Pro - Voice Changer', 0.7146892547607422),\n",
       " (u'MAGIX Music Maker 2014', 0.689863920211792),\n",
       " (u'SMITE', 0.6866061687469482),\n",
       " (u'Gotham City Impostors', 0.6822215914726257),\n",
       " (u'Black Ink', 0.6820778846740723),\n",
       " (u'Borderless Gaming', 0.6814875602722168),\n",
       " (u'Forsaken World', 0.6798227429389954),\n",
       " (u'Substance Designer 4', 0.6755606532096863)]"
      ]
     },
     "execution_count": 8,
     "metadata": {},
     "output_type": "execute_result"
    }
   ],
   "source": [
    "model2.most_similar(positive=[u\"Dota 2\",], topn=10)"
   ]
  },
  {
   "cell_type": "code",
   "execution_count": 100,
   "metadata": {
    "collapsed": false
   },
   "outputs": [
    {
     "name": "stdout",
     "output_type": "stream",
     "text": [
      "score : 8052, total : 14333, accuracy : 56.1780506523\n",
      "score : 9283, total : 14333, accuracy : 64.7666224796\n",
      "score : 7445, total : 14333, accuracy : 51.9430684435\n"
     ]
    }
   ],
   "source": [
    "#K-Fold Cross Validation\n",
    "#K=3이며 보유 게임 리스트가 게임 플레이 시간이 많은 것에서 적은 순으로 정렬,\n",
    "#게임 플레이 시간이 많은 게임 상위 3개를 기준으로 각각 5개의 유사 게임 추천,\n",
    "#상위 3개의 게임을 제외한 리스트 상에서 추천한 게임과 같은 게임을 보유했을 때 score증가\n",
    "index_list = np.linspace(0, len(owner_list_big)-1, num=4, dtype=int)\n",
    "split_index_list = []\n",
    "\n",
    "for i in range(0, 3):\n",
    "    split_index_list.append([i,i+2])\n",
    "\n",
    "for i in range(0, 3):\n",
    "    score = 0\n",
    "    split = copy.deepcopy(split_index_list)\n",
    "    test = split.pop(0)\n",
    "    test_index = index_list[test[0]:test[1]]\n",
    "    owner_test_list = owner_list_big[test_index[0]:test_index[1]]\n",
    "    total = len(owner_test_list)\n",
    "    owner_train_list = []\n",
    "    for split_index in split:\n",
    "        train_index = index_list[split_index[0]:split_index[1]]\n",
    "        owner_train_list += owner_list_big[train_index[0]:train_index[1]]\n",
    "    \n",
    "        model2 = Word2Vec(owner_train_list, window=5, min_count=0, sg=1, size=256, batch_words=700)\n",
    "        model2.init_sims(replace=True)\n",
    "        for owner_test_game in owner_test_list:\n",
    "            recommending_success = False\n",
    "            for most_game in owner_test_game[:3]:\n",
    "                try:\n",
    "                    result = model2.most_similar(positive=most_game, topn=5)\n",
    "                    for tu in result:\n",
    "                        if(tu[0] in owner_test_game[3:]):\n",
    "                            recommending_success = True\n",
    "                            break\n",
    "                except KeyError:\n",
    "                    pass\n",
    "                if(recommending_success == True):\n",
    "                    score += 1\n",
    "                    break\n",
    "    print('score : {score}, total : {total}, accuracy : {accuracy}'.format(score=score, total=total, accuracy=(score/total)*100))"
   ]
  },
  {
   "cell_type": "code",
   "execution_count": 9,
   "metadata": {
    "collapsed": false
   },
   "outputs": [],
   "source": [
    "game_vec = model2.syn0"
   ]
  },
  {
   "cell_type": "code",
   "execution_count": 108,
   "metadata": {
    "collapsed": false
   },
   "outputs": [
    {
     "data": {
      "text/plain": [
       "5542"
      ]
     },
     "execution_count": 108,
     "metadata": {},
     "output_type": "execute_result"
    }
   ],
   "source": [
    "len(game_vec)"
   ]
  },
  {
   "cell_type": "code",
   "execution_count": 118,
   "metadata": {
    "collapsed": false
   },
   "outputs": [
    {
     "data": {
      "text/plain": [
       "53"
      ]
     },
     "execution_count": 118,
     "metadata": {},
     "output_type": "execute_result"
    }
   ],
   "source": [
    "# https://ko.wikipedia.org/wiki/K-%ED%8F%89%EA%B7%A0_%EC%95%8C%EA%B3%A0%EB%A6%AC%EC%A6%98#.ED.81.B4.EB.9F.AC.EC.8A.A4.ED.84.B0.EC.9D.98_.EC.88.98\n",
    "int(round(np.sqrt(len(game_vec)/2)))"
   ]
  },
  {
   "cell_type": "code",
   "execution_count": 10,
   "metadata": {
    "collapsed": false,
    "scrolled": true
   },
   "outputs": [
    {
     "name": "stdout",
     "output_type": "stream",
     "text": [
      "kmeans: X (530L, 256L)  centres (53L, 256L)  delta=1e-08  maxiter=100  metric=cosine\n",
      "('kmeans: 14 iterations  cluster sizes:', array([ 1,  1,  7,  9,  4,  3,  5, 15, 15,  5, 45,  3, 13, 17,  1, 17, 12,\n",
      "        8, 13,  8, 26, 15, 10, 11, 29,  5, 17,  0,  9, 16, 11,  3, 13,  2,\n",
      "       11, 15,  5,  6, 21,  0,  4, 12, 11,  4,  7,  5,  0,  1, 33,  6,  7,\n",
      "       12,  1], dtype=int64))\n",
      "kmeans: X (5542L, 256L)  centres (53L, 256L)  delta=1e-08  maxiter=100  metric=cosine\n",
      "('kmeans: 35 iterations  cluster sizes:', array([ 64,  24,  53,  75,  28,  29,  57,  57, 116,  69, 623,  53,  47,\n",
      "        87,  41,  89,  78,  48, 122,  81, 238, 114,  41, 139, 400,  24,\n",
      "       106, 399,  74, 122,  87,  64, 201,  26,  53,  85,  56,  82, 240,\n",
      "         1,  61,  56,  50,  36,  46,  44,  36,   2, 498,  63,  54, 125,  78], dtype=int64))\n"
     ]
    }
   ],
   "source": [
    "centers, index2cid, dist = kmeans.kmeanssample(game_vec, k=int(round(np.sqrt(len(game_vec)/2))), \n",
    "                                               metric='cosine', delta=0.00000001, nsample=0, maxiter=100)"
   ]
  },
  {
   "cell_type": "code",
   "execution_count": 11,
   "metadata": {
    "collapsed": false
   },
   "outputs": [],
   "source": [
    "clustered_df = pd.DataFrame([(a, b, c) for a, b, c in zip(model2.index2word, index2cid, dist)],\n",
    "                            columns=['title', 'cid', 'dist']).sort_values(['cid', 'dist'], ascending=True)"
   ]
  },
  {
   "cell_type": "code",
   "execution_count": 12,
   "metadata": {
    "collapsed": true
   },
   "outputs": [],
   "source": [
    "f = open(\"clustered_df_pickle.txt\", 'w')\n",
    "pickle.dump(clustered_df, f)\n",
    "f.close()"
   ]
  },
  {
   "cell_type": "code",
   "execution_count": null,
   "metadata": {
    "collapsed": true
   },
   "outputs": [],
   "source": [
    "f = open(\"clustered_df_pickle.txt\")\n",
    "clustered_df = pickle.load(f)\n",
    "f.close()"
   ]
  },
  {
   "cell_type": "code",
   "execution_count": 17,
   "metadata": {
    "collapsed": false
   },
   "outputs": [
    {
     "data": {
      "text/html": [
       "<div>\n",
       "<table border=\"1\" class=\"dataframe\">\n",
       "  <thead>\n",
       "    <tr style=\"text-align: right;\">\n",
       "      <th></th>\n",
       "      <th>title</th>\n",
       "      <th>cid</th>\n",
       "      <th>dist</th>\n",
       "    </tr>\n",
       "  </thead>\n",
       "  <tbody>\n",
       "    <tr>\n",
       "      <th>1218</th>\n",
       "      <td>NEKOPARA Vol. 2</td>\n",
       "      <td>1</td>\n",
       "      <td>0.037780</td>\n",
       "    </tr>\n",
       "    <tr>\n",
       "      <th>1349</th>\n",
       "      <td>eden*</td>\n",
       "      <td>1</td>\n",
       "      <td>0.057310</td>\n",
       "    </tr>\n",
       "    <tr>\n",
       "      <th>1412</th>\n",
       "      <td>Higurashi When They Cry - Ch.1 Onikakushi</td>\n",
       "      <td>1</td>\n",
       "      <td>0.060002</td>\n",
       "    </tr>\n",
       "    <tr>\n",
       "      <th>1657</th>\n",
       "      <td>Sakura Swim Club</td>\n",
       "      <td>1</td>\n",
       "      <td>0.060398</td>\n",
       "    </tr>\n",
       "    <tr>\n",
       "      <th>1462</th>\n",
       "      <td>Sakura Fantasy Chapter 1</td>\n",
       "      <td>1</td>\n",
       "      <td>0.064470</td>\n",
       "    </tr>\n",
       "    <tr>\n",
       "      <th>2565</th>\n",
       "      <td>Sakura Beach</td>\n",
       "      <td>1</td>\n",
       "      <td>0.064832</td>\n",
       "    </tr>\n",
       "    <tr>\n",
       "      <th>1135</th>\n",
       "      <td>Sakura Angels</td>\n",
       "      <td>1</td>\n",
       "      <td>0.074892</td>\n",
       "    </tr>\n",
       "    <tr>\n",
       "      <th>2309</th>\n",
       "      <td>A Kiss for the Petals - Remembering How We Met</td>\n",
       "      <td>1</td>\n",
       "      <td>0.076017</td>\n",
       "    </tr>\n",
       "    <tr>\n",
       "      <th>647</th>\n",
       "      <td>Sakura Spirit</td>\n",
       "      <td>1</td>\n",
       "      <td>0.078468</td>\n",
       "    </tr>\n",
       "    <tr>\n",
       "      <th>1159</th>\n",
       "      <td>BlazBlue: Calamity Trigger</td>\n",
       "      <td>1</td>\n",
       "      <td>0.082963</td>\n",
       "    </tr>\n",
       "    <tr>\n",
       "      <th>567</th>\n",
       "      <td>NEKOPARA Vol. 1</td>\n",
       "      <td>1</td>\n",
       "      <td>0.087603</td>\n",
       "    </tr>\n",
       "    <tr>\n",
       "      <th>1772</th>\n",
       "      <td>Cherry Tree High Comedy Club</td>\n",
       "      <td>1</td>\n",
       "      <td>0.095681</td>\n",
       "    </tr>\n",
       "    <tr>\n",
       "      <th>699</th>\n",
       "      <td>NEKOPARA Vol. 0</td>\n",
       "      <td>1</td>\n",
       "      <td>0.098647</td>\n",
       "    </tr>\n",
       "    <tr>\n",
       "      <th>891</th>\n",
       "      <td>Go! Go! Nippon! ~My First Trip to Japan~</td>\n",
       "      <td>1</td>\n",
       "      <td>0.105449</td>\n",
       "    </tr>\n",
       "    <tr>\n",
       "      <th>1631</th>\n",
       "      <td>Tokyo School Life</td>\n",
       "      <td>1</td>\n",
       "      <td>0.115148</td>\n",
       "    </tr>\n",
       "    <tr>\n",
       "      <th>1276</th>\n",
       "      <td>Gaokao.Love.100Days</td>\n",
       "      <td>1</td>\n",
       "      <td>0.119850</td>\n",
       "    </tr>\n",
       "    <tr>\n",
       "      <th>719</th>\n",
       "      <td>If My Heart Had Wings</td>\n",
       "      <td>1</td>\n",
       "      <td>0.132230</td>\n",
       "    </tr>\n",
       "    <tr>\n",
       "      <th>1369</th>\n",
       "      <td>RWBY: Grimm Eclipse</td>\n",
       "      <td>1</td>\n",
       "      <td>0.153285</td>\n",
       "    </tr>\n",
       "    <tr>\n",
       "      <th>328</th>\n",
       "      <td>100% Orange Juice</td>\n",
       "      <td>1</td>\n",
       "      <td>0.186336</td>\n",
       "    </tr>\n",
       "    <tr>\n",
       "      <th>285</th>\n",
       "      <td>HuniePop</td>\n",
       "      <td>1</td>\n",
       "      <td>0.194110</td>\n",
       "    </tr>\n",
       "    <tr>\n",
       "      <th>309</th>\n",
       "      <td>Sakura Clicker</td>\n",
       "      <td>1</td>\n",
       "      <td>0.223929</td>\n",
       "    </tr>\n",
       "    <tr>\n",
       "      <th>374</th>\n",
       "      <td>LYNE</td>\n",
       "      <td>1</td>\n",
       "      <td>0.261072</td>\n",
       "    </tr>\n",
       "    <tr>\n",
       "      <th>884</th>\n",
       "      <td>Shower With Your Dad Simulator 2015: Do You St...</td>\n",
       "      <td>1</td>\n",
       "      <td>0.261522</td>\n",
       "    </tr>\n",
       "    <tr>\n",
       "      <th>449</th>\n",
       "      <td>Bad Rats</td>\n",
       "      <td>1</td>\n",
       "      <td>0.275977</td>\n",
       "    </tr>\n",
       "  </tbody>\n",
       "</table>\n",
       "</div>"
      ],
      "text/plain": [
       "                                                  title  cid      dist\n",
       "1218                                    NEKOPARA Vol. 2    1  0.037780\n",
       "1349                                              eden*    1  0.057310\n",
       "1412          Higurashi When They Cry - Ch.1 Onikakushi    1  0.060002\n",
       "1657                                   Sakura Swim Club    1  0.060398\n",
       "1462                           Sakura Fantasy Chapter 1    1  0.064470\n",
       "2565                                       Sakura Beach    1  0.064832\n",
       "1135                                      Sakura Angels    1  0.074892\n",
       "2309     A Kiss for the Petals - Remembering How We Met    1  0.076017\n",
       "647                                       Sakura Spirit    1  0.078468\n",
       "1159                         BlazBlue: Calamity Trigger    1  0.082963\n",
       "567                                     NEKOPARA Vol. 1    1  0.087603\n",
       "1772                       Cherry Tree High Comedy Club    1  0.095681\n",
       "699                                     NEKOPARA Vol. 0    1  0.098647\n",
       "891            Go! Go! Nippon! ~My First Trip to Japan~    1  0.105449\n",
       "1631                                  Tokyo School Life    1  0.115148\n",
       "1276                                Gaokao.Love.100Days    1  0.119850\n",
       "719                               If My Heart Had Wings    1  0.132230\n",
       "1369                                RWBY: Grimm Eclipse    1  0.153285\n",
       "328                                   100% Orange Juice    1  0.186336\n",
       "285                                            HuniePop    1  0.194110\n",
       "309                                      Sakura Clicker    1  0.223929\n",
       "374                                                LYNE    1  0.261072\n",
       "884   Shower With Your Dad Simulator 2015: Do You St...    1  0.261522\n",
       "449                                            Bad Rats    1  0.275977"
      ]
     },
     "execution_count": 17,
     "metadata": {},
     "output_type": "execute_result"
    }
   ],
   "source": [
    "clustered_df[clustered_df.cid == 1]"
   ]
  },
  {
   "cell_type": "code",
   "execution_count": 13,
   "metadata": {
    "collapsed": false
   },
   "outputs": [],
   "source": [
    "tsne = TSNE(n_components=3, random_state=0)\n",
    "np.set_printoptions(suppress=True)"
   ]
  },
  {
   "cell_type": "code",
   "execution_count": 14,
   "metadata": {
    "collapsed": true
   },
   "outputs": [],
   "source": [
    "tsne_game_vec = tsne.fit_transform(game_vec) "
   ]
  },
  {
   "cell_type": "code",
   "execution_count": 15,
   "metadata": {
    "collapsed": true
   },
   "outputs": [],
   "source": [
    "f = open(\"tsne_game_vec_pickle.txt\", 'w')\n",
    "pickle.dump(tsne_game_vec, f)\n",
    "f.close()"
   ]
  },
  {
   "cell_type": "code",
   "execution_count": null,
   "metadata": {
    "collapsed": true
   },
   "outputs": [],
   "source": [
    "f = open(\"tsne_game_vec_pickle.txt\")\n",
    "tsne_game_vec = pickle.load(f)\n",
    "f.close()"
   ]
  },
  {
   "cell_type": "code",
   "execution_count": 16,
   "metadata": {
    "collapsed": false
   },
   "outputs": [
    {
     "data": {
      "image/png": "[encoded data removed]",
      "text/plain": [
       "<matplotlib.figure.Figure at 0xf313208>"
      ]
     },
     "metadata": {},
     "output_type": "display_data"
    }
   ],
   "source": [
    "fig = plt.figure()\n",
    "ax = fig.add_subplot(111, projection='3d')\n",
    "#ax = fig.add_subplot(111)\n",
    "colors = iter(cm.hsv(np.linspace(0, 1, 33)))\n",
    "for i in range(0, 33):\n",
    "    xlist = []\n",
    "    ylist = []\n",
    "    zlist = []\n",
    "    for j in clustered_df[clustered_df.cid == i].index:\n",
    "        xlist.append(tsne_game_vec[j][0])\n",
    "        ylist.append(tsne_game_vec[j][1])\n",
    "        zlist.append(tsne_game_vec[j][2])\n",
    "    ax.scatter(xlist, ylist, zlist, c=next(colors))\n",
    "plt.show()"
   ]
  },
  {
   "cell_type": "code",
   "execution_count": 78,
   "metadata": {
    "collapsed": false
   },
   "outputs": [],
   "source": []
  },
  {
   "cell_type": "code",
   "execution_count": null,
   "metadata": {
    "collapsed": true
   },
   "outputs": [],
   "source": []
  }
 ],
 "metadata": {
  "kernelspec": {
   "display_name": "Python 2",
   "language": "python",
   "name": "python2"
  },
  "language_info": {
   "codemirror_mode": {
    "name": "ipython",
    "version": 2
   },
   "file_extension": ".py",
   "mimetype": "text/x-python",
   "name": "python",
   "nbconvert_exporter": "python",
   "pygments_lexer": "ipython2",
   "version": "2.7.11"
  }
 },
 "nbformat": 4,
 "nbformat_minor": 0
}
